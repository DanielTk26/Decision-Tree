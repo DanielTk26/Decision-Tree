{
  "nbformat": 4,
  "nbformat_minor": 0,
  "metadata": {
    "colab": {
      "name": "p119.ipynb",
      "provenance": [],
      "collapsed_sections": []
    },
    "kernelspec": {
      "name": "python3",
      "display_name": "Python 3"
    },
    "language_info": {
      "name": "python"
    }
  },
  "cells": [
    {
      "cell_type": "code",
      "execution_count": null,
      "metadata": {
        "id": "WAnIY5JEUqhK"
      },
      "outputs": [],
      "source": [
        "from google.colab import files\n",
        "data_to_load = files.upload()"
      ]
    },
    {
      "cell_type": "code",
      "source": [
        "import pandas as pd\n",
        "\n",
        "#PassengerId,Pclass,Sex,Age,SibSp,Parch,Survived\n",
        "col_names = ['PassengerId', 'Pclass', 'Sex', 'Age', 'SibSp', 'Parch', 'Survived']\n",
        "\n",
        "df = pd.read_csv(\"titanic.csv\", names=col_names).iloc[1:]\n",
        "\n",
        "print(df.head())"
      ],
      "metadata": {
        "id": "qU1Yt-d9U3Kg"
      },
      "execution_count": null,
      "outputs": []
    },
    {
      "cell_type": "code",
      "source": [
        "features = ['PassengerId', 'Pclass', 'Sex', 'Age', 'SibSp', 'Parch', 'Survived']\n",
        "X = df[features]\n",
        "y = df.Survived"
      ],
      "metadata": {
        "id": "2rgfzsRcVUQc"
      },
      "execution_count": null,
      "outputs": []
    },
    {
      "cell_type": "code",
      "source": [
        "from sklearn.tree import DecisionTreeClassifier\n",
        "from sklearn.model_selection import train_test_split\n",
        "from sklearn import metrics\n",
        "\n",
        "X_train, X_test, y_train, y_test = train_test_split(X, y, test_size=0.3, random_state=1)\n",
        "\n",
        "clf = DecisionTreeClassifier()\n",
        "\n",
        "clf = clf.fit(X_train,y_train)\n",
        "\n",
        "y_pred = clf.predict(X_test)\n",
        "print(\"Accuracy:\",metrics.accuracy_score(y_test, y_pred))"
      ],
      "metadata": {
        "id": "WRimTVygVroe"
      },
      "execution_count": null,
      "outputs": []
    },
    {
      "cell_type": "code",
      "source": [
        "from sklearn.tree import export_graphviz\n",
        "from sklearn.externals.six import StringIO \n",
        "from IPython.display import Image\n",
        "import pydotplus\n",
        "\n",
        "dot_data = StringIO() #Where we will store the data from our decision tree classifier as text.\n",
        "\n",
        "export_graphviz(clf, out_file=dot_data, filled=True, rounded=True, special_characters=True, feature_names=features, class_names=['0','1'])\n",
        "\n",
        "print(dot_data.getvalue())"
      ],
      "metadata": {
        "id": "0z6bxo_RVwzH"
      },
      "execution_count": null,
      "outputs": []
    },
    {
      "cell_type": "code",
      "source": [
        "graph = pydotplus.graph_from_dot_data(dot_data.getvalue())\n",
        "graph.write_png('diabetes.png')\n",
        "Image(graph.create_png())"
      ],
      "metadata": {
        "id": "LXLgipddV1Cl"
      },
      "execution_count": null,
      "outputs": []
    },
    {
      "cell_type": "code",
      "source": [
        "clf = DecisionTreeClassifier(max_depth= 3)\n",
        "clf = clf.fit(X_train, y_train)\n",
        "y_pred =  clf.predict(X_test)\n",
        "print(\"Accuracy is \", metrics.accuracy_score(y_test, y_pred)*100)"
      ],
      "metadata": {
        "id": "g9NhAG9hWVFc"
      },
      "execution_count": null,
      "outputs": []
    },
    {
      "cell_type": "code",
      "source": [
        "dot_data = StringIO()\n",
        "export_graphviz(clf, out_file = dot_data, filled = True, rounded = True, special_characters = True, feature_names = features, class_names = ['0', '1'])\n",
        "print(dot_data.getvalue())"
      ],
      "metadata": {
        "id": "6jZDNMUYWYTa"
      },
      "execution_count": null,
      "outputs": []
    },
    {
      "cell_type": "code",
      "source": [
        "dot_data = StringIO() \n",
        "export_graphviz(clf, out_file=dot_data, filled=True, rounded=True, special_characters=True, feature_names=features, class_names=['0','1'])\n",
        "graph = pydotplus.graph_from_dot_data(dot_data.getvalue())  \n",
        "graph.write_png('titanic.png')\n",
        "Image(graph.create_png())"
      ],
      "metadata": {
        "id": "S6U9vcaJWbZa"
      },
      "execution_count": null,
      "outputs": []
    }
  ]
}